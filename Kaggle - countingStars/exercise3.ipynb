{
 "cells": [
  {
   "cell_type": "markdown",
   "metadata": {},
   "source": [
    "# Exercise 3: Learning from Data\n",
    "\n",
    "In this exercise, you will train different types of regression and classification models on two datasets. You will be graded based on a combination of your code producing the expected results, your written responses to the questions and a passing leaderboard score in the final exercise."
   ]
  },
  {
   "cell_type": "markdown",
   "metadata": {},
   "source": [
    "### 3.1 Linear / Logistic Regression for digit recognition\n",
    "\n",
    "In this part you will experiment with two different types of prediction models, and qualitatively + quantitatively compare them. You will be working with the classic MNIST dataset, which we can load from `sklearn.datasets`."
   ]
  },
  {
   "cell_type": "code",
   "execution_count": 1,
   "metadata": {},
   "outputs": [],
   "source": [
    "# Importing the dataset\n",
    "from sklearn import datasets\n",
    "digits = datasets.load_digits();"
   ]
  },
  {
   "cell_type": "markdown",
   "metadata": {},
   "source": [
    "Here we plot the first few digits and their labels. Apparently they are in order, but our upcoming models will not rely on this."
   ]
  },
  {
   "cell_type": "code",
   "execution_count": 2,
   "metadata": {},
   "outputs": [
    {
     "data": {
      "image/png": "[encoded data removed]",
      "text/plain": [
       "<Figure size 1500x300 with 12 Axes>"
      ]
     },
     "metadata": {},
     "output_type": "display_data"
    }
   ],
   "source": [
    "import matplotlib.pyplot as plt\n",
    "\n",
    "_, axes = plt.subplots(nrows=1, ncols=12, figsize=(15, 3))\n",
    "for ax, image, label in zip(axes, digits.images, digits.target):\n",
    "    ax.set_axis_off()\n",
    "    ax.imshow(image, cmap=plt.cm.gray_r, interpolation=\"nearest\")\n",
    "    ax.set_title(\"Label: %i\" % label)"
   ]
  },
  {
   "cell_type": "markdown",
   "metadata": {},
   "source": [
    "### A: Warmup Exercise\n",
    "\n",
    "Use the `train_test_split` function from `sklearn.model_selection` twice to split the data into train, validation, and test sets, with a distribution of 80%, 10%, and 10% respectively. Use `random_state=0` for reproducibility.\n",
    "Check out the documentation to figure out how to set the parameters to get the desired split. "
   ]
  },
  {
   "cell_type": "code",
   "execution_count": 3,
   "metadata": {},
   "outputs": [],
   "source": [
    "# INSERT YOUR CODE HERE. ASSIGN TO THE FOLLOWING VARIABLES, X_train, X_val, X_test, y_train, y_val, y_test\n",
    "# >\n",
    "from sklearn.model_selection import train_test_split\n",
    "(X_train, X_temp, y_train, y_temp) = train_test_split(digits.data, digits.target, test_size=0.2, random_state=0, shuffle = True)\n",
    "(X_val, X_test, y_val, y_test) = train_test_split(X_temp, y_temp, test_size=0.5, random_state=0, shuffle = True)"
   ]
  },
  {
   "cell_type": "markdown",
   "metadata": {},
   "source": [
    "Now let's check out the returned training data, which is of the type `numpy.ndarray`, which you might have seen already. We want to make sure the classes are balanced, e.g. we don't have a lot more 4's than 5's.\n",
    " - How many images do we have for the train, validation, and test sets?\n",
    " - What is the distribution of the training labels? Comment on whether the classes are balanced."
   ]
  },
  {
   "cell_type": "code",
   "execution_count": 4,
   "metadata": {},
   "outputs": [
    {
     "name": "stdout",
     "output_type": "stream",
     "text": [
      "# of images:\n",
      "X_train : 1437\n",
      "X_test : 180\n",
      "X_val : 180\n",
      " \n",
      "distribution\n",
      "X_train : 80%\n",
      "X_test : 10%\n",
      "X_val : 10%\n"
     ]
    }
   ],
   "source": [
    "# CALCULATE AND WRITE YOUR ANSWERS HERE\n",
    "# >\n",
    "print('# of images:')\n",
    "print('X_train : ' + str(X_train.shape[0]))\n",
    "print('X_test : ' + str(X_test.shape[0]))\n",
    "print('X_val : ' + str(X_val.shape[0]))\n",
    "\n",
    "print(\" \")\n",
    "print(\"distribution\")\n",
    "print('X_train : ' + str(round(((X_train.shape)[0] / digits.data.shape[0] * 100))) + '%')\n",
    "print('X_test : ' + str(round(((X_test.shape)[0] / digits.data.shape[0] * 100))) + '%')\n",
    "print('X_val : ' + str(round(((X_val.shape)[0] / digits.data.shape[0] * 100))) + '%')\n"
   ]
  },
  {
   "cell_type": "markdown",
   "metadata": {},
   "source": [
    "### B: Programming Exercise\n",
    "\n",
    "Let's build a model that learns to predict the digit given the image. We'll first try our hand at linear regression. We will use the `LinearRegression` class from `sklearn.linear_model`. Again, check out the documentation on how to use it. We will use the `fit` method to train the model, and the `predict` method to make predictions on the test set.\n",
    "Afterwards, evaluate the model using functions from `sklearn.metrics` module."
   ]
  },
  {
   "cell_type": "code",
   "execution_count": 5,
   "metadata": {},
   "outputs": [
    {
     "name": "stdout",
     "output_type": "stream",
     "text": [
      "LinearRegression MSE:  3.088888888888889\n",
      "LinearRegression accuracy:  0.22777777777777777\n"
     ]
    },
    {
     "data": {
      "image/png": "[encoded data removed]",
      "text/plain": [
       "<Figure size 1000x300 with 10 Axes>"
      ]
     },
     "metadata": {},
     "output_type": "display_data"
    }
   ],
   "source": [
    "# DEFINE A LinearRegression MODEL USING SKLEARN. ASSIGN THE MODEL TO THE VARIABLE model.\n",
    "# >\n",
    "import numpy as np\n",
    "import sklearn.linear_model\n",
    "model = sklearn.linear_model.LinearRegression()\n",
    "\n",
    "# FIT THE MODEL AND MAKE PREDICTIONS ON THE TEST SET. ASSIGN THE PREDICTIONS TO THE VARIABLE y_pred.\n",
    "# >\n",
    "model.fit(X_train, y_train)\n",
    "y_pred = ([round(x) for x in model.predict(X_test)])\n",
    "\n",
    "\n",
    "# ASSIGN YOUR MODEL'S TEST SET MSE TO THE VARIABLE mse AND ITS ACCURACY TO THE VARIABLE acc.\n",
    "# >\n",
    "from sklearn.metrics import mean_squared_error\n",
    "from sklearn.metrics import accuracy_score\n",
    "\n",
    "mse = mean_squared_error(y_test, y_pred)\n",
    "acc = accuracy_score(y_test, y_pred)\n",
    "\n",
    "# DO NOT INSERT OR CHANGE ANYTHING BELOW\n",
    "print(\"LinearRegression MSE: \", mse)\n",
    "print(\"LinearRegression accuracy: \", acc)\n",
    "\n",
    "_, axes = plt.subplots(nrows=1, ncols=10, figsize=(10, 3))\n",
    "for ax, image, prediction in zip(axes, X_test, y_pred):\n",
    "    ax.set_axis_off()\n",
    "    image = image.reshape(8, 8)\n",
    "    ax.imshow(image, cmap=plt.cm.gray_r, interpolation=\"nearest\")\n",
    "    ax.set_title(\"%i\" % prediction)"
   ]
  },
  {
   "cell_type": "markdown",
   "metadata": {},
   "source": [
    "### C: Programming Exercise\n",
    "\n",
    "Now, let's model the task differently.\n",
    "You will use the `LogisticRegression`, again included in the module `sklearn.linear_model`, and again, check out the documentation to see how to use it. Fit the model and make predictions on the test set. \n",
    "\n",
    "You are asked to produce output with the same structure as in the above programming exercise (two printouts and one image), but for a different model this time."
   ]
  },
  {
   "cell_type": "code",
   "execution_count": 6,
   "metadata": {},
   "outputs": [
    {
     "name": "stdout",
     "output_type": "stream",
     "text": [
      "1.1388888888888888\n",
      "0.9611111111111111\n"
     ]
    }
   ],
   "source": [
    "# YOUR CODE HERE\n",
    "# >\n",
    "modelR = sklearn.linear_model.LogisticRegression(max_iter=2170)\n",
    "modelR.fit(X_train, y_train)\n",
    "y_predR = ([x for x in modelR.predict(X_test)])\n",
    "\n",
    "\n",
    "mseR = mean_squared_error(y_test, y_predR)\n",
    "accR = accuracy_score(y_test, y_predR)\n",
    "print(mseR)\n",
    "print(accR)\n"
   ]
  },
  {
   "cell_type": "markdown",
   "metadata": {},
   "source": [
    "### Written Questions"
   ]
  },
  {
   "attachments": {},
   "cell_type": "markdown",
   "metadata": {},
   "source": [
    "1a) Describe the trends you observe in the results. Is there anything interesting or unexpected? <br>\n",
    "    - From these result we see that: the lower the MSE the higer the accuracy, and vice versa \n",
    "\n",
    "1b) How do the results compare to the linear regression model? <br>\n",
    "    - The results of logistic regression were remarkably better than the linear regression model.\n",
    "\n",
    "1c) What do you think is the reason for this?<br>\n",
    "    - Since we're trying to classify diffrent numbers logistic regression worked best, if we were to predict a numeric value based on trends Linear regression would work best"
   ]
  },
  {
   "cell_type": "markdown",
   "metadata": {},
   "source": [
    "## Exercise 3.2: Counting stars"
   ]
  },
  {
   "cell_type": "markdown",
   "metadata": {},
   "source": [
    "Your team is tasked with applying data science and machine learning techniques to some recently collected telescope image data. The telescope takes low resolution images, in which stars either appear as squares or circles. Your task is to train a classifier to determine whether there are more circular stars than square stars in each image. The budget is tight this year so there are no resources available to train expensive deep neural networks; you will need to train a linear or logistic regression classifier instead.\n",
    "\n",
    "You are encouraged to be creative, and to try out different things empirically, too. Preprocessing could be crucial to the success of your model. Good luck!\n",
    "\n",
    "Below is a sample of the data you'll be working with. Above each image is the label, which shows the number of circular and square stars, respectively. We do not count the small noisy background stars. \n",
    "\n",
    "![](sample.png)"
   ]
  },
  {
   "cell_type": "markdown",
   "metadata": {},
   "source": [
    "### D: Programming Exercise\n",
    "\n",
    "1. Create an account on Kaggle to collect the data https://www.kaggle.com/competitions/ds2023-counting-stars/. Use your real name, or tell us your Kaggle username, so we can grade you.\n",
    "2. Download the training data from https://www.kaggle.com/competitions/ds2023-counting-stars/data. Check out the Dataset Description for more information about the data and your task.\n",
    "2. Load the training data file `stars_train_X_y.npz` and split it into `train`, `val`, and `test` splits.\n",
    "3. Use a linear or logistic regression model to fit the `train` data. Use the `val` and `test` splits for model selection and hyperparameter optimization. (You should measure performance using accuracy)."
   ]
  },
  {
   "cell_type": "code",
   "execution_count": 7,
   "metadata": {},
   "outputs": [],
   "source": [
    "import sklearn.linear_model\n",
    "from sklearn.model_selection import train_test_split\n",
    "from sklearn.metrics import mean_squared_error\n",
    "from sklearn.metrics import accuracy_score\n",
    "\n",
    "##### -- Load data -- #####\n",
    "data = np.load('stars_train_X_y.npz')\n",
    "X = data['X_train'] #   np.ndarray of size (8000, 4096),  flattened image (64x64) of the night sky.\n",
    "y = data['y_train'] #   np.ndarray of size (8000, 2), number of circular stars and number square stars\n",
    "\n",
    "###### -- Preprocessing -- #####\n",
    "''' Convert to binary list\n",
    "    1 if there is more circular stars, 0 otherwise '''\n",
    "def convertBinary(input):\n",
    "    lst = []\n",
    "    for i in range (0, len(input)):\n",
    "        if (input[i][0]) > (input[i][1]):\n",
    "            lst.append(1)\n",
    "        else: lst.append(0)\n",
    "    return lst\n",
    "y = convertBinary(y)\n",
    "\n",
    "\n",
    "'''Removes noise'''\n",
    "def lstPop(inp):\n",
    "    lst = inp\n",
    "    for i in range(len(lst)):\n",
    "        if i == 0 or i == len(lst)-1:  # check if first or last element\n",
    "            continue\n",
    "        if lst[i-1] == 0 and lst[i+1] == 0 and lst[i] != 0:\n",
    "            lst[i] = 0\n",
    "    return lst\n",
    "\n",
    "''' Reverse dimentionality reduction'''\n",
    "def divide(input):\n",
    "    lst = []\n",
    "    for i in range (0, len(input)):\n",
    "        arr1 = []\n",
    "        arr2 = []\n",
    "        for j in range (0, len(input[i])):\n",
    "            if input[i][j] == 0 or input[i][j] == 2:\n",
    "                arr2.append(0)\n",
    "            else:\n",
    "                arr2.append(1)\n",
    "            if input[i][j] == 0 or input[i][j] == 1:\n",
    "                arr1.append(0)\n",
    "            else:\n",
    "                arr1.append(2)\n",
    "        arr1 = lstPop(arr1)\n",
    "        arr2 = lstPop(arr2)\n",
    "        lst.append((arr2)+(arr1))\n",
    "    return lst\n",
    "X = (divide(X))\n",
    "\n",
    "##### -- Split data -- #####\n",
    "(X_train, X_temp, y_train, y_temp) = train_test_split(X, y, test_size=0.2, random_state=0, shuffle = True)\n",
    "(X_test, X_val, y_test, y_val) = train_test_split(X_temp, y_temp, test_size=0.5, random_state=0, shuffle = True)\n"
   ]
  },
  {
   "cell_type": "code",
   "execution_count": null,
   "metadata": {},
   "outputs": [],
   "source": [
    "from sklearn.model_selection import GridSearchCV\n",
    "\n",
    "def gridSearch():\n",
    "    hyperparameters = {\n",
    "        'C': [0.001, 0.01, 0.1, 1, 10, 100],\n",
    "        'penalty': ['l1', 'l2', 'elasticnet'],\n",
    "        'solver': ['liblinear', 'saga'],\n",
    "        'class_weight': ['balanced', None],\n",
    "    }\n",
    "    model = sklearn.linear_model.LogisticRegression()\n",
    "    grid_search = GridSearchCV(model, hyperparameters, cv=5)\n",
    "    grid_search.fit(X_train, y_train)\n",
    "\n",
    "    print(\"Best hyperparameters: \", grid_search.best_params_)\n",
    "    print(\"Test score: \", grid_search.score(X_val, y_val))\n",
    "gridSearch()"
   ]
  },
  {
   "cell_type": "code",
   "execution_count": 8,
   "metadata": {},
   "outputs": [
    {
     "name": "stdout",
     "output_type": "stream",
     "text": [
      "MSE : 0.045\n",
      "ACC : 0.955\n"
     ]
    }
   ],
   "source": [
    "##### -- Prediction -- #####\n",
    "def predict(trainX_, trainY_, testX_, testY_ ):\n",
    "    model = sklearn.linear_model.LogisticRegression(C = 0.01, penalty = 'l2', solver = 'liblinear', fit_intercept=True, random_state=0, max_iter=1500)\n",
    "    model.fit(trainX_, trainY_)\n",
    "    pred = model.predict(testX_)\n",
    "    MSE = mean_squared_error(testY_, pred)\n",
    "    ACC = accuracy_score(testY_, pred)\n",
    "    print(\"MSE : \" + str(MSE))\n",
    "    print(\"ACC : \" + str(ACC) )\n",
    "    return pred\n",
    "\n",
    "prediction = predict(X_train, y_train, X_test, y_test)\n",
    "\n",
    "def predictNonLabeled(trainX_, trainY_, testX_):\n",
    "    model = sklearn.linear_model.LogisticRegression(C = 0.01, penalty = 'l2', solver = 'liblinear', fit_intercept=True, random_state=0, max_iter=1500)\n",
    "    model.fit(trainX_, trainY_)\n",
    "    pred = model.predict(testX_)\n",
    "    return pred\n"
   ]
  },
  {
   "cell_type": "markdown",
   "metadata": {},
   "source": [
    "### E: Unlabelled data evaluation\n",
    "\n",
    "You should download the unlabeled test data from https://www.kaggle.com/competitions/ds2023-counting-stars/data and make predictions for all of the unlabeled images in the test set. You can submit your best predictions to Kaggle three times/day.\n",
    "\n",
    "The course responsible has submitted a naive baseline and we're sure you can beat that score! This programming exercise is considered passed if you achieve  $\\text{Score} \\ge 0.90$ on the leaderboard."
   ]
  },
  {
   "cell_type": "code",
   "execution_count": 9,
   "metadata": {},
   "outputs": [],
   "source": [
    "# LOAD THE TEST SET AND MAKE PREDICTIONS. ASSIGN THE PREDICTIONS TO THE VARIABLE y_pred.\n",
    "# >\n",
    "data = np.load('stars_test_X.npz')\n",
    "testSet = data['X_test']\n",
    "testSet = divide(testSet)\n",
    "y_pred = predictNonLabeled(X_train, y_train, testSet)\n",
    "\n",
    "\n",
    "output_file = \"prediction.csv\"\n",
    "# DO NOT INSERT OR CHANGE ANYTHING BELOW\n",
    "# Use this function to save your predictions on stars_test_X.npz to a \"prediction.csv\" file.\n",
    "# The produced csv file can be directly uploaded to Kaggle for evaluation.\n",
    "def y_pred_to_kaggle_format (y_pred : np.ndarray) -> None:\n",
    "    np.c_[np.arange(1, len(y_pred)+1), y_pred]\n",
    "    np.savetxt(output_file, np.c_[np.arange(1, len(y_pred)+1), y_pred], fmt='%i', delimiter=\",\", header=\"Id,Category\", comments='')\n",
    "\n",
    "y_pred_to_kaggle_format(y_pred)\n",
    "\n",
    "# NOW YOU CAN UPLOAD THE prediction.csv FILE TO KAGGLE AND SEE YOUR ACCURACY"
   ]
  },
  {
   "attachments": {},
   "cell_type": "markdown",
   "metadata": {},
   "source": [
    "### Written Questions\n",
    "\n",
    "<h3> 2a) Explain the different techniques and their purpose in your code for Programming Exercise D. </h3>\n",
    "<b>Preprocessing of X. </b> <br>\n",
    "For every element in X, I did the following:\n",
    "<ul>\n",
    "<li>Split the dataset into 2 64X64 arrays where in the 1st array, all the 2's were converted to 0, and in the second array, all the 1's were converted into 0's. </li>\n",
    "<li>I removed \"lonely pixels\" for both arrays to reduce noise. This resulted in slightly better accuracy.</li>\n",
    "<li>Then I concatenated the two arrays. The process of splitting and concatenation made a significant impact on the models' accuracy. </li>\n",
    "</ul> <br>\n",
    "<b>Preprocessing of y: </b> <br>\n",
    "Since I'm dealing with binary classification, I had to convert y into a binary list. Each element is equivalent to a 1 if there are more circular stars and a 0 if there are more square stars. <br> <br>\n",
    "\n",
    "<b>Grid search</b> <br>\n",
    "I used Gridsearch for hyperparameter turning.\n",
    "\n",
    "\n",
    "<h3>2b) Which techniques were not useful in improving performance on this task? </h3>\n",
    "Before using grid search, I tuned the hyper parameters by try and error. A lot of the parameters either didn't improve or decreased the accuracy.\n",
    "\n",
    "<b>Linear regression</b> <br>\n",
    "The accuracy decreased significantly when I used linear regression, but I should have suspected this because I was using it for binary classification. If I instead had used linear regression to predict the number of circular and square stars and compared the result, linear regression properly would be sufficient."
   ]
  }
 ],
 "metadata": {
  "kernelspec": {
   "display_name": "Python 3 (ipykernel)",
   "language": "python",
   "name": "python3"
  },
  "language_info": {
   "codemirror_mode": {
    "name": "ipython",
    "version": 3
   },
   "file_extension": ".py",
   "mimetype": "text/x-python",
   "name": "python",
   "nbconvert_exporter": "python",
   "pygments_lexer": "ipython3",
   "version": "3.9.13"
  },
  "vscode": {
   "interpreter": {
    "hash": "369f2c481f4da34e4445cda3fffd2e751bd1c4d706f27375911949ba6bb62e1c"
   }
  }
 },
 "nbformat": 4,
 "nbformat_minor": 2
}
